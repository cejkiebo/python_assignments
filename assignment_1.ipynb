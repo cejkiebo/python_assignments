{
 "cells": [
  {
   "cell_type": "markdown",
   "metadata": {},
   "source": [
    "## Assignment 1\n",
    "\n"
   ]
  },
  {
   "cell_type": "markdown",
   "metadata": {},
   "source": [
    "This is the first of two assignments for the course Python: programming for economists. The course website explains how the grading of these two assignments works.\n",
    "\n",
    "As this is your first python assignment, we start with two example assignments that we solve for you. This gives you an idea of what is expected of you.\n",
    "\n",
    "Solving economic models is a bit too advanced for now (we cover that later in the course), so we will consider statistical problems. Most of these problems have analytical solutions, but we are not interested in that. We want you to simulate the problem and get the answer in this way.\n",
    "\n"
   ]
  },
  {
   "cell_type": "markdown",
   "metadata": {},
   "source": [
    "### Example 1\n",
    "\n"
   ]
  },
  {
   "cell_type": "markdown",
   "metadata": {},
   "source": [
    "A famous statistical puzzle is called [the birthday problem](https://en.wikipedia.org/wiki/Birthday_problem). There are $n$ people in a room. What is the probability that at least two of them have the same birthday. That is, their birthday is on the same day (e.g. August 1st). The question is not about their birth date (August 1st, 1987).\n",
    "\n",
    "How many people $n$ are needed for this probability to exceed 0.5?\n",
    "\n",
    "As the wikipedia site shows, you can calculate this analytically. But, again, we are not interested in this.\n",
    "\n",
    "To solve this problem, we will use two python libraries that we import here:\n",
    "\n"
   ]
  },
  {
   "cell_type": "code",
   "execution_count": 1,
   "metadata": {},
   "outputs": [],
   "source": [
    "import numpy as np\n",
    "import matplotlib.pyplot as plt"
   ]
  },
  {
   "cell_type": "markdown",
   "metadata": {},
   "source": [
    "To put some structure on the problem we are going to assume that there are 365 days in a year and that the distribution of birthdays over these 365 days is uniform. Hence you are equally likely to have your birthday on July 1st as on December 31st.\n",
    "\n",
    "We are going to solve this problem with simulation. We start with, say, $n=23$ people in the room. A birthday is a number between 0 and 365, where 0 represents January 1st and 364 is December 31st. Hence we draw 23 of these numbers and check whether some of these numbers are the same. If they are the same, we have \"two people with the same birthday\".\n",
    "\n",
    "How do we randomly generate numbers between 0 and 365 using numpy? Simply google \"numpy randomly select number\" and you will find a link to [https://numpy.org/doc/stable/reference/random/generated/numpy.random.randint.html](https://numpy.org/doc/stable/reference/random/generated/numpy.random.randint.html)\n",
    "\n",
    "Now that we know what we are looking for, we can read the documentation in our notebook:\n",
    "\n"
   ]
  },
  {
   "cell_type": "code",
   "execution_count": 2,
   "metadata": {},
   "outputs": [
    {
     "data": {
      "text/plain": [
       "\u001b[0;31mDocstring:\u001b[0m\n",
       "randint(low, high=None, size=None, dtype=int)\n",
       "\n",
       "Return random integers from `low` (inclusive) to `high` (exclusive).\n",
       "\n",
       "Return random integers from the \"discrete uniform\" distribution of\n",
       "the specified dtype in the \"half-open\" interval [`low`, `high`). If\n",
       "`high` is None (the default), then results are from [0, `low`).\n",
       "\n",
       ".. note::\n",
       "    New code should use the ``integers`` method of a ``default_rng()``\n",
       "    instance instead; please see the :ref:`random-quick-start`.\n",
       "\n",
       "Parameters\n",
       "----------\n",
       "low : int or array-like of ints\n",
       "    Lowest (signed) integers to be drawn from the distribution (unless\n",
       "    ``high=None``, in which case this parameter is one above the\n",
       "    *highest* such integer).\n",
       "high : int or array-like of ints, optional\n",
       "    If provided, one above the largest (signed) integer to be drawn\n",
       "    from the distribution (see above for behavior if ``high=None``).\n",
       "    If array-like, must contain integer values\n",
       "size : int or tuple of ints, optional\n",
       "    Output shape.  If the given shape is, e.g., ``(m, n, k)``, then\n",
       "    ``m * n * k`` samples are drawn.  Default is None, in which case a\n",
       "    single value is returned.\n",
       "dtype : dtype, optional\n",
       "    Desired dtype of the result. Byteorder must be native.\n",
       "    The default value is int.\n",
       "\n",
       "    .. versionadded:: 1.11.0\n",
       "\n",
       "Returns\n",
       "-------\n",
       "out : int or ndarray of ints\n",
       "    `size`-shaped array of random integers from the appropriate\n",
       "    distribution, or a single such random int if `size` not provided.\n",
       "\n",
       "See Also\n",
       "--------\n",
       "random_integers : similar to `randint`, only for the closed\n",
       "    interval [`low`, `high`], and 1 is the lowest value if `high` is\n",
       "    omitted.\n",
       "Generator.integers: which should be used for new code.\n",
       "\n",
       "Examples\n",
       "--------\n",
       ">>> np.random.randint(2, size=10)\n",
       "array([1, 0, 0, 0, 1, 1, 0, 0, 1, 0]) # random\n",
       ">>> np.random.randint(1, size=10)\n",
       "array([0, 0, 0, 0, 0, 0, 0, 0, 0, 0])\n",
       "\n",
       "Generate a 2 x 4 array of ints between 0 and 4, inclusive:\n",
       "\n",
       ">>> np.random.randint(5, size=(2, 4))\n",
       "array([[4, 0, 2, 1], # random\n",
       "       [3, 2, 2, 0]])\n",
       "\n",
       "Generate a 1 x 3 array with 3 different upper bounds\n",
       "\n",
       ">>> np.random.randint(1, [3, 5, 10])\n",
       "array([2, 2, 9]) # random\n",
       "\n",
       "Generate a 1 by 3 array with 3 different lower bounds\n",
       "\n",
       ">>> np.random.randint([1, 5, 7], 10)\n",
       "array([9, 8, 7]) # random\n",
       "\n",
       "Generate a 2 by 4 array using broadcasting with dtype of uint8\n",
       "\n",
       ">>> np.random.randint([1, 3, 5, 7], [[10], [20]], dtype=np.uint8)\n",
       "array([[ 8,  6,  9,  7], # random\n",
       "       [ 1, 16,  9, 12]], dtype=uint8)\n",
       "\u001b[0;31mType:\u001b[0m      builtin_function_or_method\n"
      ]
     },
     "metadata": {},
     "output_type": "display_data"
    }
   ],
   "source": [
    "np.random.randint?"
   ]
  },
  {
   "cell_type": "markdown",
   "metadata": {},
   "source": [
    "One thing to note is \"Return random integers from low (inclusive) to high (exclusive)\". Hence, if we want to be able to draw 364 as well, we need to use:\n",
    "\n"
   ]
  },
  {
   "cell_type": "code",
   "execution_count": 2,
   "metadata": {},
   "outputs": [
    {
     "data": {
      "text/plain": [
       "83"
      ]
     },
     "execution_count": 2,
     "metadata": {},
     "output_type": "execute_result"
    }
   ],
   "source": [
    "np.random.randint(0,365)"
   ]
  },
  {
   "cell_type": "markdown",
   "metadata": {},
   "source": [
    "We have 23 people in the room, hence we will use:\n",
    "\n"
   ]
  },
  {
   "cell_type": "code",
   "execution_count": 3,
   "metadata": {},
   "outputs": [
    {
     "data": {
      "text/plain": [
       "array([131, 286, 338, 228, 119, 100, 350,  86, 126,  34, 135,   6, 293,\n",
       "       317, 235,  56,  65, 145, 270, 264,  99, 144, 243], dtype=int32)"
      ]
     },
     "execution_count": 3,
     "metadata": {},
     "output_type": "execute_result"
    }
   ],
   "source": [
    "np.random.randint(0,365,size = 23)"
   ]
  },
  {
   "cell_type": "markdown",
   "metadata": {},
   "source": [
    "Since this is random, your numbers will be different from the ones I see.\n",
    "\n",
    "How do we determine whether two of these numbers in the array are the same? One solution is to loop over the array two times and see whether we find numbers that are equal. Something like:\n",
    "\n"
   ]
  },
  {
   "cell_type": "code",
   "execution_count": 4,
   "metadata": {},
   "outputs": [],
   "source": [
    "dates = np.random.randint(0,365,size=23)\n",
    "for i in range(23):\n",
    "    for j in range(i+1, 23):\n",
    "        if dates[i] == dates[j]:\n",
    "            print(\"two people have the same birthday\")"
   ]
  },
  {
   "cell_type": "markdown",
   "metadata": {},
   "source": [
    "**Remark:** Take some time to understand this code. E.g. what does the notation `dates[i]` mean? Why don't we use `for j in range(0,23)`? \n",
    "\n",
    "There is nothing wrong with this code, except that in python we do not like loops. For one thing: they tend to be slow.\n",
    "\n",
    "Hence, we need to think about our problem. This \"thinking\" is the fun of programming. Try to get a different perspective on the same problem and then figure out whether a function exists that accommodates this new perspective.\n",
    "\n",
    "To illustrate this \"thinking\": up till now we are focused on determining whether we have two people with the same birthday. But often in these type of statistical problems it helps to consider the complement: when does everyone have a different birthday?\n",
    "\n",
    "This would happen in case everyone has a **different** birthday. That is, the numbers in our array `dates` are all unique. Back to google: \"numpy unique elements\". This will give a link to: [https://numpy.org/doc/stable/reference/generated/numpy.unique.html](https://numpy.org/doc/stable/reference/generated/numpy.unique.html)\n",
    "\n",
    "Again use `np.unique?` to see the documentation in your notebook. This function returns the unique elements in an array. Just to illustrate this:\n",
    "\n"
   ]
  },
  {
   "cell_type": "code",
   "execution_count": 5,
   "metadata": {},
   "outputs": [
    {
     "name": "stdout",
     "output_type": "stream",
     "text": [
      "[1 2 3 4]\n",
      "[10 30]\n"
     ]
    }
   ],
   "source": [
    "print(np.unique([1,2,3,4]))\n",
    "print(np.unique([10,10,30]))"
   ]
  },
  {
   "cell_type": "markdown",
   "metadata": {},
   "source": [
    "Hence, we have duplicate elements in an array like `dates` if the length &#x2013;use the function `len()`&#x2013; of `np.unique(dates)` is lower than the length of `dates` itself:\n",
    "\n"
   ]
  },
  {
   "cell_type": "code",
   "execution_count": 6,
   "metadata": {},
   "outputs": [
    {
     "data": {
      "text/plain": [
       "True"
      ]
     },
     "execution_count": 6,
     "metadata": {},
     "output_type": "execute_result"
    }
   ],
   "source": [
    "dates =  np.array([10,10,30])\n",
    "len(np.unique(dates)) < len(dates)"
   ]
  },
  {
   "cell_type": "markdown",
   "metadata": {},
   "source": [
    "So the code we want to use is:\n",
    "\n"
   ]
  },
  {
   "cell_type": "code",
   "execution_count": 7,
   "metadata": {},
   "outputs": [
    {
     "data": {
      "text/plain": [
       "True"
      ]
     },
     "execution_count": 7,
     "metadata": {},
     "output_type": "execute_result"
    }
   ],
   "source": [
    "n = 23\n",
    "dates = np.random.randint(0,365,size=n)\n",
    "len(np.unique(dates)) < n"
   ]
  },
  {
   "cell_type": "markdown",
   "metadata": {},
   "source": [
    "With this code we can see whether for a randomly drawn group of 23 people, there are at least two people with the same birthday.\n",
    "\n",
    "So how do we get to a probability that this happens?\n",
    "\n",
    "Time to think again. The idea of a probability is to express how likely an event is &#x2013;here two people with the same birthday&#x2013; if we were to repeat it a lot of times. So we will repeat the birthday problem $N=5000$ times. Then we calculate in which fraction of cases, we observed at least two people with the same birthday.\n",
    "\n",
    "Repeating the experiment in numpy is easy. Think of one experiment (one array of numbers `dates`) as a row. Now we analyze 5000 such rows. Hence, we create a matrix `dates` with $N=5000$ rows and and each row has the birthday of $n=23$ people:\n",
    "\n"
   ]
  },
  {
   "cell_type": "code",
   "execution_count": 8,
   "metadata": {},
   "outputs": [
    {
     "data": {
      "text/plain": [
       "(5000, 23)"
      ]
     },
     "execution_count": 8,
     "metadata": {},
     "output_type": "execute_result"
    }
   ],
   "source": [
    "n = 23\n",
    "N = 5000\n",
    "dates = np.random.randint(0,365,size=(N,n))\n",
    "dates.shape"
   ]
  },
  {
   "cell_type": "markdown",
   "metadata": {},
   "source": [
    "Now we want to check the condition `len(unique(x)) < n` for each row `x` in the matrix `dates`. One way to check this condition for each row, is to use list-comprehension. This generates a list with 5000 elements. Each element is either `True` or `False`.\n",
    "\n"
   ]
  },
  {
   "cell_type": "code",
   "execution_count": 10,
   "metadata": {},
   "outputs": [
    {
     "data": {
      "text/plain": [
       "5000"
      ]
     },
     "execution_count": 10,
     "metadata": {},
     "output_type": "execute_result"
    }
   ],
   "source": [
    "len([len(np.unique(x)) < n for x in dates])"
   ]
  },
  {
   "cell_type": "markdown",
   "metadata": {},
   "source": [
    "`True` means that `len(unique(x)) < 23` for a particular row: there were at least two people with the same birthday.\n",
    "\n",
    "Finally, we use that python represents `True` as 1 and `False` as 0. Hence, summing the list gives the number of cases out of $N=5000$ where two or more people had the same birthday. Dividing this sum by $N=5000$ gives the probability of this happening:\n",
    "\n"
   ]
  },
  {
   "cell_type": "code",
   "execution_count": 11,
   "metadata": {},
   "outputs": [
    {
     "data": {
      "text/plain": [
       "0.514"
      ]
     },
     "execution_count": 11,
     "metadata": {},
     "output_type": "execute_result"
    }
   ],
   "source": [
    "np.sum([len(np.unique(x)) < n for x in dates])/N"
   ]
  },
  {
   "cell_type": "markdown",
   "metadata": {},
   "source": [
    "Hence, with 23 people the probability of having two or more people with the same birthday already exceeds 50%.\n",
    "\n",
    "If we want to plot how the probability of at least two people with the same birthday varies with $n$, we use the code above in a function:\n",
    "\n"
   ]
  },
  {
   "cell_type": "code",
   "execution_count": 12,
   "metadata": {},
   "outputs": [],
   "source": [
    "def birthdays(n,N=5000):\n",
    "    dates = np.random.randint(0,365,size=(N,n))\n",
    "    return np.sum([len(np.unique(x)) < n for x in dates])/N"
   ]
  },
  {
   "cell_type": "markdown",
   "metadata": {},
   "source": [
    "And then we plot this function:\n",
    "\n"
   ]
  },
  {
   "cell_type": "code",
   "execution_count": 13,
   "metadata": {},
   "outputs": [
    {
     "data": {
      "image/png": "[encoded data removed]",
      "text/plain": [
       "<Figure size 432x288 with 1 Axes>"
      ]
     },
     "metadata": {
      "needs_background": "light"
     },
     "output_type": "display_data"
    }
   ],
   "source": [
    "range_n = np.arange(2,61)\n",
    "plt.plot(range_n,[birthdays(n) for n in range_n])\n",
    "plt.xlabel('$n$')\n",
    "plt.ylabel('probability')\n",
    "plt.title('Probability that at least two people have the same birthday in a group of size $n$');"
   ]
  },
  {
   "cell_type": "markdown",
   "metadata": {},
   "source": [
    "Using the figure, you can see for which value of $n$ the probability of at least two birthdays exceeds 0.5. Note that with a group of 60 people you are almost guaranteed that at least two people have the same birthday.\n",
    "\n"
   ]
  },
  {
   "cell_type": "markdown",
   "metadata": {},
   "source": [
    "### Example 2\n",
    "\n"
   ]
  },
  {
   "cell_type": "markdown",
   "metadata": {},
   "source": [
    "For this assignment you only need the numpy library:\n",
    "\n"
   ]
  },
  {
   "cell_type": "code",
   "execution_count": 2,
   "metadata": {
    "tags": []
   },
   "outputs": [],
   "source": [
    "import numpy as np"
   ]
  },
  {
   "cell_type": "markdown",
   "metadata": {},
   "source": [
    "The idea of this assignment is to compare three experiments and see which one is more likely to lead to a success. The experiments involve rolling dice. The point is that our intuitions about which event is more likely are notoriously bad. Hence, you either need to calculate the probabilities analytically (\"by hand\") or we simulate the experiments and see which one is more likely.\n",
    "\n",
    "The point of this assignment is to simulate the probabilities using python and numpy.\n",
    "\n",
    "In the first experiment we role a die six times. The experiment is a \"success\" if there is at least one 6 in the six roles. In the second experiment, we role a die twelve times. Experiment 2 is a success if we have at least two 6 in twelve roles. Finally, we role the die eighteen times. This final experiment is a success if we have at least three 6 in the eighteen roles.\n",
    "\n",
    "Summarizing:\n",
    "\n",
    "-   experiment 1: at least one 6 in six roles of the die;\n",
    "-   experiment 2: at least two 6 in twelve roles of the die;\n",
    "-   experiment 3: at least three 6 in eighteen roles of the die.\n",
    "\n",
    "Program the experiments in python and show which of the three experiments is more likely to be successful. Explain the code that you are using.\n",
    "\n"
   ]
  },
  {
   "cell_type": "markdown",
   "metadata": {},
   "source": [
    "#### answer\n",
    "\n",
    "In your own assignments (including the final assignment) we expect you to explain the code that you use. However, here we do not give any explanation. If you did not find the answer yourself, we want you to examine the following code closely and figure out for yourself how this works.\n",
    "\n",
    "An important thing to note is that we use numpy arrays to solve the problem; not for-loops."
   ]
  },
  {
   "cell_type": "code",
   "execution_count": 3,
   "metadata": {
    "tags": []
   },
   "outputs": [
    {
     "name": "stdout",
     "output_type": "stream",
     "text": [
      "0.6546 0.6146 0.5944\n"
     ]
    }
   ],
   "source": [
    "N = 10000\n",
    "die_roles = np.random.randint(1,7,size=(N,18))\n",
    "experiment_1 = np.sum(np.sum(die_roles[:,:6] == 6,axis=1) > 0)/N\n",
    "experiment_2 = np.sum(np.sum(die_roles[:,:12] == 6,axis=1) > 1)/N\n",
    "experiment_3 = np.sum(np.sum(die_roles[:,:18] == 6,axis=1) > 2)/N\n",
    "print(experiment_1, experiment_2, experiment_3)\n"
   ]
  },
  {
   "cell_type": "markdown",
   "metadata": {},
   "source": [
    "## Assignment"
   ]
  },
  {
   "cell_type": "markdown",
   "metadata": {},
   "source": [
    "In this assignment, we will consider an interesting statistical phenomenon. When we consider variables that are normally distributed, the mass of observations moves away from the mean as the dimensions increase. The goal of the assignment is for you to verify this property using python.\n",
    "\n",
    "The objective of the assignment is that you learn how to add dimensions to a problem, once you have solved it in the one dimensional case. Further, you will be using =numpy='s =random= library and =scipy='s =stats= library to generate random numbers and plot density functions.\n",
    "\n",
    "When we think of a normal distribution, we tend to think that most observations are \"somewhere in the middle\", that is around the mean. Indeed, the 95% interval around the mean consists of 95% of the observations. This is true by definition, but we can also check this using python in the following way.\n",
    "\n",
    "First, we import the libraries that we need.\n"
   ]
  },
  {
   "cell_type": "code",
   "execution_count": 9,
   "metadata": {
    "tags": []
   },
   "outputs": [],
   "source": [
    "import numpy as np\n",
    "import matplotlib.pyplot as plt\n",
    "from scipy.stats import norm\n"
   ]
  },
  {
   "cell_type": "markdown",
   "metadata": {},
   "source": [
    "To see which percentage of people fall in the 95% interval, consider the following code.\n",
    "\n",
    "*Question* Use a markdown cell to explain the python code:\n"
   ]
  },
  {
   "cell_type": "code",
   "execution_count": 11,
   "metadata": {
    "tags": []
   },
   "outputs": [
    {
     "data": {
      "text/plain": [
       "np.float64(0.95)"
      ]
     },
     "execution_count": 11,
     "metadata": {},
     "output_type": "execute_result"
    }
   ],
   "source": [
    "n_observations = 10000\n",
    "data = np.random.normal(0,1,size=(n_observations))\n",
    "percentiles = np.percentile(data, [2.5,97.5])\n",
    "mask = (data > percentiles[0])&(data < percentiles[1])\n",
    "np.sum(mask)/n_observations\n"
   ]
  },
  {
   "cell_type": "markdown",
   "metadata": {},
   "source": [
    "Data is randomly generated using draws from a standard normal distribution of size `n_observations`. The boundaries of the 95% interval are subsequently calculated, which are then used to find how much of the `data` lies between the two calculated percentiles. Finally, the number of `True`s are summed up and divided by the number of observations to find a percentage."
   ]
  },
  {
   "cell_type": "markdown",
   "metadata": {},
   "source": [
    "The outcome (around 0.95) is hardly surprising... But the code provided (once you understand it), will help with the main question of this assignment.\n",
    "\n",
    "Before we do this, let's visualize the result.\n",
    "\n",
    "*Question* Plot the density function of the normal distribution that we use in the code block above. In this figure, shade the 95% interval."
   ]
  },
  {
   "cell_type": "code",
   "execution_count": 22,
   "metadata": {},
   "outputs": [
    {
     "data": {
      "image/png": "[encoded data removed]",
      "text/plain": [
       "<Figure size 640x480 with 1 Axes>"
      ]
     },
     "metadata": {},
     "output_type": "display_data"
    }
   ],
   "source": [
    "# your code\n",
    "x = np.linspace(\n",
    "        start=np.min(data),\n",
    "        stop=np.max(data),\n",
    "        num=10_000)\n",
    "\n",
    "pdf = norm.pdf(x, 0, 1)\n",
    "\n",
    "plt.plot(x, pdf)\n",
    "plt.fill_between(x, pdf, where=(x>percentiles[0]) & (x<percentiles[1]), alpha = 0.5)\n",
    "plt.show()"
   ]
  },
  {
   "cell_type": "markdown",
   "metadata": {},
   "source": [
    "*Question:* The data above is one-dimensional. We only have an $x$ variable (so to speak). Now we are going to generalize this to $x_1, x_2, ..., x_m$. That is, for each unit of observation we have $m$ different measurements/variables. If the unit of observation is country, $x_1, x_2, ...$ could be gdp, unemployment, inflation, fraction of people above age 65 etc. Or if the unit of observation is people, the variables could relate to length, weight, income etc. For each of these $m$ measurements we can determine the 95% interval. What we are interested in is the fraction of people who are in all 95% intervals as a function of $m$. Above we solved this for $m=1$. Solve this for $m=1,2,3...,150$ and plot the fraction of people who are in all 95% intervals as a function of $m$. We assume that the observations in the different dimensions are independently normally distributed.\n",
    "\n",
    "hint 1: this question is not easy and it is no problem if you cannot solve it. But use the markdown cells to explain to us how you want to solve this and then provide the code that implements your solution. The goal of the assignment is that you try to figure out how to program and solve a rather abstract problem. If you cannot solve this in your first attempt, use your second submission to explain what you learned.\n",
    "\n",
    "hint 2: if you use numpy arrays to solve this (which is recommended), you may want to look up the numpy function `cumprod`.\n",
    "\n",
    "note: handing in an empty assignment saying \"this is too difficult\" will not give you any points. Make a serious attempt and explain to us what you are doing/trying."
   ]
  },
  {
   "cell_type": "markdown",
   "metadata": {},
   "source": [
    "1. Generate $10000$ observations for $150$ variables\n",
    "\n",
    "2. Find the interval boundaries\n",
    "\n",
    "3. Find the fraction of people who are in all 95% intervals\n",
    "\n",
    "4. Plot these fractions $\\forall m\\in M$"
   ]
  },
  {
   "cell_type": "code",
   "execution_count": 25,
   "metadata": {
    "tags": []
   },
   "outputs": [],
   "source": [
    "# your code\n",
    "X = np.random.normal(size=(10_000, 150))"
   ]
  },
  {
   "cell_type": "code",
   "execution_count": 28,
   "metadata": {},
   "outputs": [
    {
     "data": {
      "text/plain": [
       "array([[-1.99546113, -1.9485606 , -1.99256754, -1.93191439, -1.9512498 ,\n",
       "        -1.94594947, -1.96389784, -1.95021897, -1.97089254, -1.95014688,\n",
       "        -1.95307384, -1.90961561, -1.96093485, -1.98880839, -1.94184824,\n",
       "        -2.00055915, -1.99185745, -2.01269854, -1.98474416, -1.95470706,\n",
       "        -1.94072628, -1.9387644 , -1.9481955 , -1.99669229, -1.95070445,\n",
       "        -1.95560007, -1.93700481, -1.98204383, -1.98024896, -1.93771475,\n",
       "        -1.98557182, -1.9514183 , -1.97284266, -2.01161577, -1.97151831,\n",
       "        -1.92644996, -1.94899925, -1.9063353 , -1.92514246, -1.95678688,\n",
       "        -2.00309282, -1.90746788, -1.94010987, -1.94082868, -1.95642427,\n",
       "        -1.93825835, -1.95219523, -1.9753781 , -1.95751976, -1.97816052,\n",
       "        -1.97601922, -1.95914872, -1.96532336, -1.98501452, -1.95294361,\n",
       "        -1.9780858 , -2.00566082, -2.00107645, -1.95417477, -1.94393747,\n",
       "        -1.93454458, -2.01317479, -1.93107647, -1.95077498, -1.92375153,\n",
       "        -1.93979754, -1.9634466 , -1.99415529, -1.94232839, -1.98580764,\n",
       "        -1.95791334, -1.91219188, -1.93416793, -1.99480787, -2.01451851,\n",
       "        -1.91634327, -1.94146315, -1.93494623, -1.98049996, -1.97710333,\n",
       "        -1.98374533, -1.93358701, -1.97795192, -2.047948  , -1.92875993,\n",
       "        -1.95382333, -1.96582635, -1.9609881 , -1.92137247, -1.98543306,\n",
       "        -1.94965087, -1.95051631, -1.94264071, -1.92271142, -1.94902152,\n",
       "        -1.96674739, -1.92854953, -1.9613384 , -2.00991512, -1.97959289,\n",
       "        -1.96545417, -1.97587992, -1.96452651, -1.97373484, -1.94313636,\n",
       "        -1.94170728, -1.94874717, -1.94740296, -1.97681873, -1.9674538 ,\n",
       "        -1.9835731 , -1.98683442, -1.91780872, -1.98110217, -1.97141418,\n",
       "        -1.98725127, -1.94101845, -1.95387562, -1.97524218, -2.00076928,\n",
       "        -1.95942414, -1.96788708, -1.94984363, -1.95332255, -1.98882456,\n",
       "        -1.91507058, -1.97186951, -1.93845252, -2.00926791, -1.92883822,\n",
       "        -1.96225375, -1.99849407, -1.96512031, -1.91112852, -1.96706879,\n",
       "        -1.93359198, -1.93837218, -1.96344126, -1.96083866, -1.98308351,\n",
       "        -1.99457738, -1.98514983, -1.94962593, -1.98968653, -1.96848483,\n",
       "        -2.00758193, -1.95455597, -1.97695328, -1.99455888, -1.96630025],\n",
       "       [ 1.93837534,  1.9925516 ,  2.01058264,  1.91840507,  1.94083758,\n",
       "         1.9671646 ,  1.93758161,  1.98599489,  1.98587023,  1.95212146,\n",
       "         1.94765974,  1.97119636,  1.97434211,  1.9323006 ,  1.95461641,\n",
       "         1.99017223,  2.02548522,  1.91498767,  1.937721  ,  1.92846636,\n",
       "         1.95718405,  1.9879874 ,  1.92841634,  1.91891163,  1.976197  ,\n",
       "         1.96006006,  1.94368307,  1.92679376,  1.97379021,  1.97371729,\n",
       "         1.9515802 ,  1.95267886,  1.94046595,  2.00716446,  1.95846882,\n",
       "         1.94766155,  1.94655527,  1.98118128,  2.02179268,  1.95563603,\n",
       "         1.96896844,  1.98048907,  1.97042767,  1.99887049,  1.97717634,\n",
       "         2.00216356,  2.002764  ,  2.02695523,  1.99176216,  1.95320975,\n",
       "         1.9395583 ,  1.95883426,  1.97665487,  1.96699805,  1.94876821,\n",
       "         1.97448473,  1.99206688,  1.91435047,  2.00121603,  1.93405205,\n",
       "         1.96095781,  1.94899472,  1.9854675 ,  1.97134391,  1.94740826,\n",
       "         1.93131116,  1.9716999 ,  1.96113878,  1.93659982,  1.96007093,\n",
       "         1.95347711,  1.92279431,  1.96764589,  1.95725486,  1.94208534,\n",
       "         1.9800249 ,  2.00847743,  1.94639382,  1.96187041,  1.99671035,\n",
       "         1.96672356,  1.98267561,  1.96337086,  1.95831342,  1.96208318,\n",
       "         1.93207566,  1.99040414,  1.92395985,  1.95719396,  1.95544754,\n",
       "         1.96416487,  2.00100081,  1.98177836,  1.96538446,  1.95642174,\n",
       "         1.8850581 ,  1.9953128 ,  1.93359285,  1.97367868,  1.96651082,\n",
       "         1.92847655,  1.98412376,  1.98377814,  1.95202723,  1.95035687,\n",
       "         1.9262533 ,  2.00314322,  1.97851478,  1.95565886,  2.00490564,\n",
       "         1.95305208,  1.98474222,  1.97705852,  1.92543479,  1.95607122,\n",
       "         1.92797957,  1.95575089,  1.98048383,  2.00589129,  1.96338767,\n",
       "         1.93913999,  1.98453868,  1.98001756,  1.9610676 ,  1.9673623 ,\n",
       "         1.94050781,  1.96824481,  2.01328274,  1.92443616,  1.91575271,\n",
       "         2.01560847,  1.97470152,  1.97999143,  1.9741489 ,  1.97372804,\n",
       "         1.98010474,  1.92280784,  1.96815982,  1.96042883,  1.97146393,\n",
       "         1.97855128,  1.96854001,  1.95731741,  1.94513196,  1.94145363,\n",
       "         1.98623861,  1.93825379,  1.95380606,  1.92545425,  1.99928578]])"
      ]
     },
     "execution_count": 28,
     "metadata": {},
     "output_type": "execute_result"
    }
   ],
   "source": [
    "pctiles = np.percentile(X, [2.5, 97.5], axis=0)\n",
    "pctiles"
   ]
  },
  {
   "cell_type": "markdown",
   "metadata": {},
   "source": [
    "### What did you get wrong the first time and why?\n",
    "\n"
   ]
  },
  {
   "cell_type": "markdown",
   "metadata": {},
   "source": [
    "This section you only need to fill in after the assignment was discussed in class.\n",
    "\n"
   ]
  },
  {
   "cell_type": "markdown",
   "metadata": {},
   "source": [
    "### What did you learn from this assignment?\n",
    "\n"
   ]
  },
  {
   "cell_type": "markdown",
   "metadata": {},
   "source": [
    "This section you only need to fill in after the assignment was discussed in class.\n",
    "\n"
   ]
  }
 ],
 "metadata": {
  "kernelspec": {
   "display_name": "Python 3 (ipykernel)",
   "language": "python",
   "name": "python3"
  },
  "language_info": {
   "codemirror_mode": {
    "name": "ipython",
    "version": 3
   },
   "file_extension": ".py",
   "mimetype": "text/x-python",
   "name": "python",
   "nbconvert_exporter": "python",
   "pygments_lexer": "ipython3",
   "version": "3.12.4"
  },
  "org": null
 },
 "nbformat": 4,
 "nbformat_minor": 4
}
