{
 "cells": [
  {
   "cell_type": "markdown",
   "metadata": {},
   "source": [
    "## Assignment 2\n",
    "\n"
   ]
  },
  {
   "cell_type": "markdown",
   "metadata": {},
   "source": [
    "In this assignment we consider the following phenomenon. Have you ever called the help-desk of an organization; say, a webshop. Chances are that when you did, you were told that the customer queue was longer than average and you were kindly asked to wait. When you complained about this to your friends, almost all of them had the same experience. How can it be the case that everyone has to wait longer than average? Surely, this is a scam and the helpdesk is under-staffed? It probably is under-staffed, but the outcome is consistent with the webshop telling the truth.\n",
    "\n",
    "In this assignment we will consider a related issue where the average class size reported by a school does not square with the student experience of the average class size.\n",
    "\n",
    "The objective of this assignment is for you to learn translating a problem posed in words into a python program. You only need 4 lines of code to solve this problem. The issue really is the translation of the narative into code.\n",
    "\n",
    "\n",
    "A school offers students education in five different class sizs. There are one-on-one supervision classes, tutorials with 10 students, interactive lectures with 50 students and big lectures with 100 and 200 students resp. In the school schedule each of these classe sizes are offered equally often in a week (do not worry about whether this is actually possible; simply assume that there is a uniform distribution over the class sizes). Hence the school advertises with an average class size of 72.2.\n",
    "\n",
    "On a lecture day, we go to the school yard and sample students during the breaks. We ask them: what was the size of the class you just attented? In total we sample 250 students during the breaks on this day. We take the average of all the 250 reported class sizes.\n",
    "\n",
    "\n",
    "*Question* Verify that the average class size as reported by the school is indeed 72.2. Then show that the average class size as reported by students in our sample is roughly twice as high. Finally, give the intuition for this result.\n",
    "\n"
   ]
  },
  {
   "cell_type": "code",
   "execution_count": 1,
   "metadata": {
    "tags": []
   },
   "outputs": [],
   "source": [
    "# your code"
   ]
  },
  {
   "cell_type": "markdown",
   "metadata": {},
   "source": [
    "*provide intuition for the result (whether you solved it or not)*"
   ]
  },
  {
   "cell_type": "markdown",
   "metadata": {},
   "source": [
    "### What did you get wrong the first time and why?\n",
    "\n"
   ]
  },
  {
   "cell_type": "markdown",
   "metadata": {},
   "source": [
    "This section you only need to fill in after the assignment was discussed in class.\n",
    "\n"
   ]
  },
  {
   "cell_type": "markdown",
   "metadata": {},
   "source": [
    "### What did you learn from this assignment?\n",
    "\n"
   ]
  },
  {
   "cell_type": "markdown",
   "metadata": {},
   "source": [
    "This section you only need to fill in after the assignment was discussed in class.\n",
    "\n"
   ]
  }
 ],
 "metadata": {
  "kernelspec": {
   "display_name": "Python 3 (ipykernel)",
   "language": "python",
   "name": "python3"
  },
  "language_info": {
   "codemirror_mode": {
    "name": "ipython",
    "version": 3
   },
   "file_extension": ".py",
   "mimetype": "text/x-python",
   "name": "python",
   "nbconvert_exporter": "python",
   "pygments_lexer": "ipython3",
   "version": "3.11.5"
  },
  "org": null
 },
 "nbformat": 4,
 "nbformat_minor": 4
}
